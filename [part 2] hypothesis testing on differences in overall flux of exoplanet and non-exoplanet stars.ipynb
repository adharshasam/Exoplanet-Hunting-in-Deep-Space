{
  "nbformat": 4,
  "nbformat_minor": 0,
  "metadata": {
    "colab": {
      "provenance": [],
      "collapsed_sections": []
    },
    "kernelspec": {
      "name": "python3",
      "display_name": "Python 3"
    },
    "language_info": {
      "name": "python"
    }
  },
  "cells": [
    {
      "cell_type": "markdown",
      "source": [
        "According to the inverse square law, the radiant flux (or apparent brightness) of a star depends on:\n",
        "\n",
        "*   its luminosity\n",
        "*   its distance from the Earth\n",
        "\n",
        "Flux is directly proportional to luminosity and inversely proportional to distance from the Earth.\n",
        "\n",
        "________________________________________________________________________________\n",
        "\n",
        "***Astro jargon*** 🪐\n",
        "\n",
        "*   Luminosity - total amount of energy that a star puts out as light every second.\n",
        "*   Flux - the total amount of energy intercepted by the detector on Earth *(in our case, it is the NASA Kepler space telescope)* divided by the area of the detector.\n",
        "\n",
        "Reference: https://astronomy.swin.edu.au/cosmos/F/Flux\n",
        "\n"
      ],
      "metadata": {
        "id": "Al7qgUZ_QRhW"
      }
    },
    {
      "cell_type": "markdown",
      "source": [
        "Intuitively, exoplanet stars are more likely to have greater apparent brightness since they are light-years away from Earth as opposed to stars found in the solar system.\n",
        "\n",
        "________________________________________________________________________________\n",
        "\n",
        "\n",
        "***Fun fact*** 🤔\n",
        "\n",
        "According to NASA Exoplanet Exploration, the Earth's closest known exoplanet - Proxima Centauri b - is located four light-years away from Earth.\n",
        "\n",
        "The farthest planet within our solar system is Neptune a magnitude of 4.3 billon kilometers from Earth.\n",
        "\n",
        "*1 light-year = 9.46 × 10^12 km*"
      ],
      "metadata": {
        "id": "Get82EFXTMTu"
      }
    },
    {
      "cell_type": "markdown",
      "source": [
        "***Let's test this hypothesis!***\n",
        "\n",
        "H0: There is no statistically significant difference in overall radiant flux between exoplanet and non-exoplanet stars.\n",
        "\n",
        "HA: There exists a statistically significant difference in overall radiant flux between exoplanet and non-exoplanet stars."
      ],
      "metadata": {
        "id": "q1BRKMUNUNt1"
      }
    },
    {
      "cell_type": "code",
      "source": [
        "import pandas as pd\n",
        "exoTrain = pd.read_csv(\"exoTrain.csv\")\n",
        "exoTrain[\"LABEL\"] = exoTrain[\"LABEL\"].replace(1, 0)\n",
        "exoTrain[\"LABEL\"] = exoTrain[\"LABEL\"].replace(2, 1)\n",
        "\n",
        "exo = exoTrain.loc[exoTrain['LABEL'] == 1]\n",
        "non_exo = exoTrain.loc[exoTrain['LABEL'] == 0]"
      ],
      "metadata": {
        "id": "zjfeQSmPj0s6"
      },
      "execution_count": null,
      "outputs": []
    },
    {
      "cell_type": "code",
      "source": [
        "exo.shape"
      ],
      "metadata": {
        "colab": {
          "base_uri": "https://localhost:8080/"
        },
        "id": "wK4o7pCUS3hQ",
        "outputId": "de22678c-e596-4af4-9df0-7679a6a0c794"
      },
      "execution_count": null,
      "outputs": [
        {
          "output_type": "execute_result",
          "data": {
            "text/plain": [
              "(37, 3198)"
            ]
          },
          "metadata": {},
          "execution_count": 5
        }
      ]
    },
    {
      "cell_type": "code",
      "source": [
        "non_exo.shape"
      ],
      "metadata": {
        "colab": {
          "base_uri": "https://localhost:8080/"
        },
        "id": "yXzoFI0vS6et",
        "outputId": "860d891f-39fd-4176-bb19-182328f855c5"
      },
      "execution_count": null,
      "outputs": [
        {
          "output_type": "execute_result",
          "data": {
            "text/plain": [
              "(5050, 3198)"
            ]
          },
          "metadata": {},
          "execution_count": 6
        }
      ]
    },
    {
      "cell_type": "code",
      "source": [
        "exo.head(5)"
      ],
      "metadata": {
        "colab": {
          "base_uri": "https://localhost:8080/",
          "height": 300
        },
        "id": "2ehqJ0ETRAD4",
        "outputId": "c957b115-9e59-424b-fff7-77409d2bc3c7"
      },
      "execution_count": null,
      "outputs": [
        {
          "output_type": "execute_result",
          "data": {
            "text/plain": [
              "   LABEL   FLUX.1   FLUX.2   FLUX.3   FLUX.4   FLUX.5   FLUX.6  FLUX.7  \\\n",
              "0      1    93.85    83.81    20.10   -26.98   -39.56  -124.71 -135.18   \n",
              "1      1   -38.88   -33.83   -58.54   -40.09   -79.31   -72.81  -86.55   \n",
              "2      1   532.64   535.92   513.73   496.92   456.45   466.00  464.50   \n",
              "3      1   326.52   347.39   302.35   298.13   317.74   312.70  322.33   \n",
              "4      1 -1107.21 -1112.59 -1118.95 -1095.10 -1057.55 -1034.48 -998.34   \n",
              "\n",
              "    FLUX.8  FLUX.9  ...  FLUX.3188  FLUX.3189  FLUX.3190  FLUX.3191  \\\n",
              "0   -96.27  -79.89  ...     -78.07    -102.15    -102.15      25.13   \n",
              "1   -85.33  -83.97  ...      -3.28     -32.21     -32.21     -24.89   \n",
              "2   486.39  436.56  ...     -71.69      13.31      13.31     -29.89   \n",
              "3   311.31  312.42  ...       5.71      -3.73      -3.73      30.05   \n",
              "4 -1022.71 -989.57  ...    -594.37    -401.66    -401.66    -357.24   \n",
              "\n",
              "   FLUX.3192  FLUX.3193  FLUX.3194  FLUX.3195  FLUX.3196  FLUX.3197  \n",
              "0      48.57      92.54      39.32      61.42       5.08     -39.54  \n",
              "1      -4.86       0.76     -11.70       6.46      16.00      19.93  \n",
              "2     -20.88       5.06     -11.80     -28.91     -70.02     -96.67  \n",
              "3      20.03     -12.67      -8.77     -17.31     -17.35      13.98  \n",
              "4    -443.76    -438.54    -399.71    -384.65    -411.79    -510.54  \n",
              "\n",
              "[5 rows x 3198 columns]"
            ],
            "text/html": [
              "\n",
              "  <div id=\"df-05a4324a-2d0e-4f71-8ed9-b474eb25132f\">\n",
              "    <div class=\"colab-df-container\">\n",
              "      <div>\n",
              "<style scoped>\n",
              "    .dataframe tbody tr th:only-of-type {\n",
              "        vertical-align: middle;\n",
              "    }\n",
              "\n",
              "    .dataframe tbody tr th {\n",
              "        vertical-align: top;\n",
              "    }\n",
              "\n",
              "    .dataframe thead th {\n",
              "        text-align: right;\n",
              "    }\n",
              "</style>\n",
              "<table border=\"1\" class=\"dataframe\">\n",
              "  <thead>\n",
              "    <tr style=\"text-align: right;\">\n",
              "      <th></th>\n",
              "      <th>LABEL</th>\n",
              "      <th>FLUX.1</th>\n",
              "      <th>FLUX.2</th>\n",
              "      <th>FLUX.3</th>\n",
              "      <th>FLUX.4</th>\n",
              "      <th>FLUX.5</th>\n",
              "      <th>FLUX.6</th>\n",
              "      <th>FLUX.7</th>\n",
              "      <th>FLUX.8</th>\n",
              "      <th>FLUX.9</th>\n",
              "      <th>...</th>\n",
              "      <th>FLUX.3188</th>\n",
              "      <th>FLUX.3189</th>\n",
              "      <th>FLUX.3190</th>\n",
              "      <th>FLUX.3191</th>\n",
              "      <th>FLUX.3192</th>\n",
              "      <th>FLUX.3193</th>\n",
              "      <th>FLUX.3194</th>\n",
              "      <th>FLUX.3195</th>\n",
              "      <th>FLUX.3196</th>\n",
              "      <th>FLUX.3197</th>\n",
              "    </tr>\n",
              "  </thead>\n",
              "  <tbody>\n",
              "    <tr>\n",
              "      <th>0</th>\n",
              "      <td>1</td>\n",
              "      <td>93.85</td>\n",
              "      <td>83.81</td>\n",
              "      <td>20.10</td>\n",
              "      <td>-26.98</td>\n",
              "      <td>-39.56</td>\n",
              "      <td>-124.71</td>\n",
              "      <td>-135.18</td>\n",
              "      <td>-96.27</td>\n",
              "      <td>-79.89</td>\n",
              "      <td>...</td>\n",
              "      <td>-78.07</td>\n",
              "      <td>-102.15</td>\n",
              "      <td>-102.15</td>\n",
              "      <td>25.13</td>\n",
              "      <td>48.57</td>\n",
              "      <td>92.54</td>\n",
              "      <td>39.32</td>\n",
              "      <td>61.42</td>\n",
              "      <td>5.08</td>\n",
              "      <td>-39.54</td>\n",
              "    </tr>\n",
              "    <tr>\n",
              "      <th>1</th>\n",
              "      <td>1</td>\n",
              "      <td>-38.88</td>\n",
              "      <td>-33.83</td>\n",
              "      <td>-58.54</td>\n",
              "      <td>-40.09</td>\n",
              "      <td>-79.31</td>\n",
              "      <td>-72.81</td>\n",
              "      <td>-86.55</td>\n",
              "      <td>-85.33</td>\n",
              "      <td>-83.97</td>\n",
              "      <td>...</td>\n",
              "      <td>-3.28</td>\n",
              "      <td>-32.21</td>\n",
              "      <td>-32.21</td>\n",
              "      <td>-24.89</td>\n",
              "      <td>-4.86</td>\n",
              "      <td>0.76</td>\n",
              "      <td>-11.70</td>\n",
              "      <td>6.46</td>\n",
              "      <td>16.00</td>\n",
              "      <td>19.93</td>\n",
              "    </tr>\n",
              "    <tr>\n",
              "      <th>2</th>\n",
              "      <td>1</td>\n",
              "      <td>532.64</td>\n",
              "      <td>535.92</td>\n",
              "      <td>513.73</td>\n",
              "      <td>496.92</td>\n",
              "      <td>456.45</td>\n",
              "      <td>466.00</td>\n",
              "      <td>464.50</td>\n",
              "      <td>486.39</td>\n",
              "      <td>436.56</td>\n",
              "      <td>...</td>\n",
              "      <td>-71.69</td>\n",
              "      <td>13.31</td>\n",
              "      <td>13.31</td>\n",
              "      <td>-29.89</td>\n",
              "      <td>-20.88</td>\n",
              "      <td>5.06</td>\n",
              "      <td>-11.80</td>\n",
              "      <td>-28.91</td>\n",
              "      <td>-70.02</td>\n",
              "      <td>-96.67</td>\n",
              "    </tr>\n",
              "    <tr>\n",
              "      <th>3</th>\n",
              "      <td>1</td>\n",
              "      <td>326.52</td>\n",
              "      <td>347.39</td>\n",
              "      <td>302.35</td>\n",
              "      <td>298.13</td>\n",
              "      <td>317.74</td>\n",
              "      <td>312.70</td>\n",
              "      <td>322.33</td>\n",
              "      <td>311.31</td>\n",
              "      <td>312.42</td>\n",
              "      <td>...</td>\n",
              "      <td>5.71</td>\n",
              "      <td>-3.73</td>\n",
              "      <td>-3.73</td>\n",
              "      <td>30.05</td>\n",
              "      <td>20.03</td>\n",
              "      <td>-12.67</td>\n",
              "      <td>-8.77</td>\n",
              "      <td>-17.31</td>\n",
              "      <td>-17.35</td>\n",
              "      <td>13.98</td>\n",
              "    </tr>\n",
              "    <tr>\n",
              "      <th>4</th>\n",
              "      <td>1</td>\n",
              "      <td>-1107.21</td>\n",
              "      <td>-1112.59</td>\n",
              "      <td>-1118.95</td>\n",
              "      <td>-1095.10</td>\n",
              "      <td>-1057.55</td>\n",
              "      <td>-1034.48</td>\n",
              "      <td>-998.34</td>\n",
              "      <td>-1022.71</td>\n",
              "      <td>-989.57</td>\n",
              "      <td>...</td>\n",
              "      <td>-594.37</td>\n",
              "      <td>-401.66</td>\n",
              "      <td>-401.66</td>\n",
              "      <td>-357.24</td>\n",
              "      <td>-443.76</td>\n",
              "      <td>-438.54</td>\n",
              "      <td>-399.71</td>\n",
              "      <td>-384.65</td>\n",
              "      <td>-411.79</td>\n",
              "      <td>-510.54</td>\n",
              "    </tr>\n",
              "  </tbody>\n",
              "</table>\n",
              "<p>5 rows × 3198 columns</p>\n",
              "</div>\n",
              "      <button class=\"colab-df-convert\" onclick=\"convertToInteractive('df-05a4324a-2d0e-4f71-8ed9-b474eb25132f')\"\n",
              "              title=\"Convert this dataframe to an interactive table.\"\n",
              "              style=\"display:none;\">\n",
              "        \n",
              "  <svg xmlns=\"http://www.w3.org/2000/svg\" height=\"24px\"viewBox=\"0 0 24 24\"\n",
              "       width=\"24px\">\n",
              "    <path d=\"M0 0h24v24H0V0z\" fill=\"none\"/>\n",
              "    <path d=\"M18.56 5.44l.94 2.06.94-2.06 2.06-.94-2.06-.94-.94-2.06-.94 2.06-2.06.94zm-11 1L8.5 8.5l.94-2.06 2.06-.94-2.06-.94L8.5 2.5l-.94 2.06-2.06.94zm10 10l.94 2.06.94-2.06 2.06-.94-2.06-.94-.94-2.06-.94 2.06-2.06.94z\"/><path d=\"M17.41 7.96l-1.37-1.37c-.4-.4-.92-.59-1.43-.59-.52 0-1.04.2-1.43.59L10.3 9.45l-7.72 7.72c-.78.78-.78 2.05 0 2.83L4 21.41c.39.39.9.59 1.41.59.51 0 1.02-.2 1.41-.59l7.78-7.78 2.81-2.81c.8-.78.8-2.07 0-2.86zM5.41 20L4 18.59l7.72-7.72 1.47 1.35L5.41 20z\"/>\n",
              "  </svg>\n",
              "      </button>\n",
              "      \n",
              "  <style>\n",
              "    .colab-df-container {\n",
              "      display:flex;\n",
              "      flex-wrap:wrap;\n",
              "      gap: 12px;\n",
              "    }\n",
              "\n",
              "    .colab-df-convert {\n",
              "      background-color: #E8F0FE;\n",
              "      border: none;\n",
              "      border-radius: 50%;\n",
              "      cursor: pointer;\n",
              "      display: none;\n",
              "      fill: #1967D2;\n",
              "      height: 32px;\n",
              "      padding: 0 0 0 0;\n",
              "      width: 32px;\n",
              "    }\n",
              "\n",
              "    .colab-df-convert:hover {\n",
              "      background-color: #E2EBFA;\n",
              "      box-shadow: 0px 1px 2px rgba(60, 64, 67, 0.3), 0px 1px 3px 1px rgba(60, 64, 67, 0.15);\n",
              "      fill: #174EA6;\n",
              "    }\n",
              "\n",
              "    [theme=dark] .colab-df-convert {\n",
              "      background-color: #3B4455;\n",
              "      fill: #D2E3FC;\n",
              "    }\n",
              "\n",
              "    [theme=dark] .colab-df-convert:hover {\n",
              "      background-color: #434B5C;\n",
              "      box-shadow: 0px 1px 3px 1px rgba(0, 0, 0, 0.15);\n",
              "      filter: drop-shadow(0px 1px 2px rgba(0, 0, 0, 0.3));\n",
              "      fill: #FFFFFF;\n",
              "    }\n",
              "  </style>\n",
              "\n",
              "      <script>\n",
              "        const buttonEl =\n",
              "          document.querySelector('#df-05a4324a-2d0e-4f71-8ed9-b474eb25132f button.colab-df-convert');\n",
              "        buttonEl.style.display =\n",
              "          google.colab.kernel.accessAllowed ? 'block' : 'none';\n",
              "\n",
              "        async function convertToInteractive(key) {\n",
              "          const element = document.querySelector('#df-05a4324a-2d0e-4f71-8ed9-b474eb25132f');\n",
              "          const dataTable =\n",
              "            await google.colab.kernel.invokeFunction('convertToInteractive',\n",
              "                                                     [key], {});\n",
              "          if (!dataTable) return;\n",
              "\n",
              "          const docLinkHtml = 'Like what you see? Visit the ' +\n",
              "            '<a target=\"_blank\" href=https://colab.research.google.com/notebooks/data_table.ipynb>data table notebook</a>'\n",
              "            + ' to learn more about interactive tables.';\n",
              "          element.innerHTML = '';\n",
              "          dataTable['output_type'] = 'display_data';\n",
              "          await google.colab.output.renderOutput(dataTable, element);\n",
              "          const docLink = document.createElement('div');\n",
              "          docLink.innerHTML = docLinkHtml;\n",
              "          element.appendChild(docLink);\n",
              "        }\n",
              "      </script>\n",
              "    </div>\n",
              "  </div>\n",
              "  "
            ]
          },
          "metadata": {},
          "execution_count": 8
        }
      ]
    },
    {
      "cell_type": "markdown",
      "source": [
        "We take average of the flux values for every star to calculate the overall flux values for our hypothesis testing. "
      ],
      "metadata": {
        "id": "8kf7xR4I48bF"
      }
    },
    {
      "cell_type": "code",
      "source": [
        "from statistics import mean\n",
        "exo['FLUX_AVG'] = exo.iloc[:, 1:3198].mean(axis=1)\n",
        "\n",
        "print(exo.head(5))"
      ],
      "metadata": {
        "colab": {
          "base_uri": "https://localhost:8080/"
        },
        "id": "NPnvR_cZSa_D",
        "outputId": "941e625d-1c7f-47ea-b62d-90812f56178e"
      },
      "execution_count": null,
      "outputs": [
        {
          "output_type": "stream",
          "name": "stdout",
          "text": [
            "   LABEL   FLUX.1   FLUX.2   FLUX.3   FLUX.4   FLUX.5   FLUX.6  FLUX.7  \\\n",
            "0      1    93.85    83.81    20.10   -26.98   -39.56  -124.71 -135.18   \n",
            "1      1   -38.88   -33.83   -58.54   -40.09   -79.31   -72.81  -86.55   \n",
            "2      1   532.64   535.92   513.73   496.92   456.45   466.00  464.50   \n",
            "3      1   326.52   347.39   302.35   298.13   317.74   312.70  322.33   \n",
            "4      1 -1107.21 -1112.59 -1118.95 -1095.10 -1057.55 -1034.48 -998.34   \n",
            "\n",
            "    FLUX.8  FLUX.9  ...  FLUX.3189  FLUX.3190  FLUX.3191  FLUX.3192  \\\n",
            "0   -96.27  -79.89  ...    -102.15    -102.15      25.13      48.57   \n",
            "1   -85.33  -83.97  ...     -32.21     -32.21     -24.89      -4.86   \n",
            "2   486.39  436.56  ...      13.31      13.31     -29.89     -20.88   \n",
            "3   311.31  312.42  ...      -3.73      -3.73      30.05      20.03   \n",
            "4 -1022.71 -989.57  ...    -401.66    -401.66    -357.24    -443.76   \n",
            "\n",
            "   FLUX.3193  FLUX.3194  FLUX.3195  FLUX.3196  FLUX.3197   FLUX_AVG  \n",
            "0      92.54      39.32      61.42       5.08     -39.54   9.953857  \n",
            "1       0.76     -11.70       6.46      16.00      19.93  -7.427932  \n",
            "2       5.06     -11.80     -28.91     -70.02     -96.67   8.189087  \n",
            "3     -12.67      -8.77     -17.31     -17.35      13.98  -4.646587  \n",
            "4    -438.54    -399.71    -384.65    -411.79    -510.54 -14.240660  \n",
            "\n",
            "[5 rows x 3199 columns]\n"
          ]
        },
        {
          "output_type": "stream",
          "name": "stderr",
          "text": [
            "/usr/local/lib/python3.7/dist-packages/ipykernel_launcher.py:2: SettingWithCopyWarning: \n",
            "A value is trying to be set on a copy of a slice from a DataFrame.\n",
            "Try using .loc[row_indexer,col_indexer] = value instead\n",
            "\n",
            "See the caveats in the documentation: https://pandas.pydata.org/pandas-docs/stable/user_guide/indexing.html#returning-a-view-versus-a-copy\n",
            "  \n"
          ]
        }
      ]
    },
    {
      "cell_type": "code",
      "source": [
        "non_exo['FLUX_AVG'] = non_exo.iloc[:, 1:3198].mean(axis=1)\n",
        "print(non_exo.head(5))"
      ],
      "metadata": {
        "colab": {
          "base_uri": "https://localhost:8080/"
        },
        "id": "9JWdXNLoVAwq",
        "outputId": "6a720b66-7cb5-4fb9-d342-47741aab1b01"
      },
      "execution_count": null,
      "outputs": [
        {
          "output_type": "stream",
          "name": "stdout",
          "text": [
            "    LABEL  FLUX.1  FLUX.2  FLUX.3  FLUX.4  FLUX.5  FLUX.6  FLUX.7  FLUX.8  \\\n",
            "37      0 -141.22  -81.79  -52.28  -32.45   -1.55  -35.61  -23.28   19.45   \n",
            "38      0  -35.62  -28.55  -27.29  -28.94  -15.13  -51.06    2.67   -5.21   \n",
            "39      0  142.40  137.03   93.65  105.64   98.22   99.06   86.40   60.78   \n",
            "40      0 -167.02 -137.65 -150.05 -136.85  -98.73 -103.14 -107.70 -123.19   \n",
            "41      0  207.74  223.60  246.15  224.06  210.77  189.56  172.68  170.31   \n",
            "\n",
            "    FLUX.9  ...  FLUX.3189  FLUX.3190  FLUX.3191  FLUX.3192  FLUX.3193  \\\n",
            "37   53.11  ...     -22.34     -36.23      27.44      13.52      38.66   \n",
            "38    9.67  ...     -38.22     -46.23     -54.40     -23.51     -26.96   \n",
            "39   45.18  ...      -3.03     -30.27     -24.22     -35.10     -39.64   \n",
            "40 -125.65  ...     -79.79     -80.62     -78.22    -105.06     -69.67   \n",
            "41  148.79  ...    -136.92    -174.97    -180.46    -164.01    -126.58   \n",
            "\n",
            "    FLUX.3194  FLUX.3195  FLUX.3196  FLUX.3197   FLUX_AVG  \n",
            "37     -17.53      31.49      31.38      50.03   0.209246  \n",
            "38      -3.95      -0.34      10.52      -7.69   4.212268  \n",
            "39      23.78      23.40      -0.50       0.97   0.891442  \n",
            "40     -90.45     -73.67     -66.71     -66.07   4.850673  \n",
            "41      84.05      63.81     108.36      78.10  33.159481  \n",
            "\n",
            "[5 rows x 3199 columns]\n"
          ]
        },
        {
          "output_type": "stream",
          "name": "stderr",
          "text": [
            "/usr/local/lib/python3.7/dist-packages/ipykernel_launcher.py:1: SettingWithCopyWarning: \n",
            "A value is trying to be set on a copy of a slice from a DataFrame.\n",
            "Try using .loc[row_indexer,col_indexer] = value instead\n",
            "\n",
            "See the caveats in the documentation: https://pandas.pydata.org/pandas-docs/stable/user_guide/indexing.html#returning-a-view-versus-a-copy\n",
            "  \"\"\"Entry point for launching an IPython kernel.\n"
          ]
        }
      ]
    },
    {
      "cell_type": "markdown",
      "source": [
        "***Choosing the right statistical test to use***"
      ],
      "metadata": {
        "id": "mDjTWzJwWe0E"
      }
    },
    {
      "cell_type": "markdown",
      "source": [
        "*   *One-way ANOVA* is used to detect statistically significant differences between the means of three or more independent groups.\n",
        "\n",
        "*   *Student's t-test* is a specific type of ANOVA used when we only have two population means to compare.\n",
        "\n",
        "*   *Welch's t-test* is a non-parametric version of the Student's t-test that does not require the variances of the two groups to be equal. It is also known as the unequal variances t-test for this reason.\n"
      ],
      "metadata": {
        "id": "VA0pCjoEWwWD"
      }
    },
    {
      "cell_type": "markdown",
      "source": [
        "***Testing for unequal variances of both groups***"
      ],
      "metadata": {
        "id": "k3f49NVx5xUs"
      }
    },
    {
      "cell_type": "code",
      "source": [
        "import scipy.stats as stats\n",
        "import numpy as np\n",
        "  \n",
        "import random as rd\n",
        "rd.seed(100)\n",
        "non_exo_flux = non_exo['FLUX_AVG'].sample(n=37)"
      ],
      "metadata": {
        "id": "d2r1E1t5ziC9"
      },
      "execution_count": null,
      "outputs": []
    },
    {
      "cell_type": "markdown",
      "source": [
        "Welch's t-test does not require the sample sizes of the groups to be equal but the number of non-exoplanet stars is exceptionally larger than the count of exoplanet stars. So, we check for equal variances with downsampled non-exoplanets too."
      ],
      "metadata": {
        "id": "uNu22dB86F-4"
      }
    },
    {
      "cell_type": "markdown",
      "source": [
        "*With non-exoplanet star data downsampling:*"
      ],
      "metadata": {
        "id": "m-YGx2-964xW"
      }
    },
    {
      "cell_type": "code",
      "source": [
        "import scipy.stats as stats\n",
        "import numpy as np\n",
        "\n",
        "import random as rd\n",
        "rd.seed(100)\n",
        "non_exo_flux = non_exo['FLUX_AVG'].sample(n=37)\n",
        "\n",
        "exo_flux = exo['FLUX_AVG'].tolist() \n",
        "non_exo_flux = non_exo_flux.tolist()\n",
        "  \n",
        "#printing the variances of both data groups\n",
        "print(np.var(exo_flux), np.var(non_exo_flux))"
      ],
      "metadata": {
        "colab": {
          "base_uri": "https://localhost:8080/"
        },
        "outputId": "aa4c8258-8136-4fa6-e4f6-909b422413ff",
        "id": "zSKC1aBqJpVu"
      },
      "execution_count": null,
      "outputs": [
        {
          "output_type": "stream",
          "name": "stdout",
          "text": [
            "41467.0849229546 1556.058853466069\n"
          ]
        }
      ]
    },
    {
      "cell_type": "markdown",
      "source": [
        "*Without non-exoplanet star data downsampling:*"
      ],
      "metadata": {
        "id": "0jmrleEW7CHE"
      }
    },
    {
      "cell_type": "code",
      "source": [
        "import scipy.stats as stats\n",
        "import numpy as np\n",
        "  \n",
        "exo_flux = exo['FLUX_AVG'].tolist() \n",
        "non_exo_flux = non_exo['FLUX_AVG'].tolist()\n",
        "  \n",
        "#printing the variances of both data groups\n",
        "print(np.var(exo_flux), np.var(non_exo_flux))"
      ],
      "metadata": {
        "colab": {
          "base_uri": "https://localhost:8080/"
        },
        "id": "heoI1K3PJejI",
        "outputId": "01c9b4d2-b121-4f33-9a18-ef45589a845a"
      },
      "execution_count": null,
      "outputs": [
        {
          "output_type": "stream",
          "name": "stdout",
          "text": [
            "41467.0849229546 39651521.98648239\n"
          ]
        }
      ]
    },
    {
      "cell_type": "markdown",
      "source": [
        "Upon getting these results, we can confidently go ahead and test our hypothesis using the Welch's t-test as the variances are widely different."
      ],
      "metadata": {
        "id": "S24QYGcQ7E3I"
      }
    },
    {
      "cell_type": "markdown",
      "source": [
        "***Welch's t-test***"
      ],
      "metadata": {
        "id": "q7iLNJbd5jkQ"
      }
    },
    {
      "cell_type": "markdown",
      "source": [
        "Since we have unequal sample variances and unequal sample sizes for our star groups, we carry out the Welch's t-test.\n"
      ],
      "metadata": {
        "id": "mw-15rOwZJ4z"
      }
    },
    {
      "cell_type": "markdown",
      "source": [
        "*Using downsampled non-exoplanet star data:*"
      ],
      "metadata": {
        "id": "UCeQ-2kn7xor"
      }
    },
    {
      "cell_type": "code",
      "source": [
        "exo_flux = exo['FLUX_AVG'].tolist() \n",
        "non_exo_flux = non_exo_flux.tolist() \n",
        "\n",
        "#welch's t-test \n",
        "print(stats.ttest_ind(exo_flux, non_exo_flux, equal_var = False)) "
      ],
      "metadata": {
        "colab": {
          "base_uri": "https://localhost:8080/"
        },
        "id": "Sx_GGTyf0Q_8",
        "outputId": "e2369478-1aa8-4e5d-87ee-90b065e395dd"
      },
      "execution_count": null,
      "outputs": [
        {
          "output_type": "stream",
          "name": "stdout",
          "text": [
            "Ttest_indResult(statistic=-1.702158077171895, pvalue=0.09494829953262572)\n"
          ]
        }
      ]
    },
    {
      "cell_type": "markdown",
      "source": [
        "Setting the signficance level as 0.05...\n",
        "\n",
        "Since our p-value (= 0.09) greater than 0.05, we cannot reject the null hypothesis."
      ],
      "metadata": {
        "id": "6HgnHDBa9SZv"
      }
    },
    {
      "cell_type": "markdown",
      "source": [
        "*Using original non-exoplanet star data:*"
      ],
      "metadata": {
        "id": "Ds1r7cRE8ALO"
      }
    },
    {
      "cell_type": "code",
      "source": [
        "exo_flux = exo['FLUX_AVG'].tolist() \n",
        "non_exo_flux = non_exo['FLUX_AVG'].tolist() \n",
        "\n",
        "#welch's t-test\n",
        "print(stats.ttest_ind(exo_flux, non_exo_flux, equal_var = False)) "
      ],
      "metadata": {
        "colab": {
          "base_uri": "https://localhost:8080/"
        },
        "id": "0RbOsZCrI4PI",
        "outputId": "d119aaec-9108-456d-9955-5a8e01b1a2d4"
      },
      "execution_count": null,
      "outputs": [
        {
          "output_type": "stream",
          "name": "stdout",
          "text": [
            "Ttest_indResult(statistic=-1.8844773219290087, pvalue=0.05967580795193132)\n"
          ]
        }
      ]
    },
    {
      "cell_type": "markdown",
      "source": [
        "Since our p-value (= 0.06) greater than 0.05, we cannot reject the null hypothesis."
      ],
      "metadata": {
        "id": "_BXZtZo9kfw8"
      }
    },
    {
      "cell_type": "markdown",
      "source": [
        "***Inference***\n",
        "\n",
        "Hence, there is no significant difference in the overall flux for exoplanet and non-exoplanet stars."
      ],
      "metadata": {
        "id": "9jCI_Bvy9rxs"
      }
    },
    {
      "cell_type": "markdown",
      "source": [
        "***Limitations of this approach***\n",
        "\n",
        "\n",
        "*   Taking the average of radial flux values for every star may not be the best representation of overall flux of stars.\n",
        "\n",
        "*   Another important variable - luminosity - was not taken into consideration while testing out this hypothesis. The actual brightness of stars cannot be measured but it still has a huge influence on the apparent brightness. A brighter star which is further from Earth is more likely to have greater flux than a fainter star closer to the Earth.\n",
        "\n",
        "\n",
        "\n"
      ],
      "metadata": {
        "id": "_WPcw_NI9inS"
      }
    }
  ]
}
